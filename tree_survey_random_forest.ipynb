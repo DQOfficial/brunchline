{
 "cells": [
  {
   "cell_type": "markdown",
   "metadata": {},
   "source": [
    "# Forest for the Trees \n",
    "### Predicting Tree Types from the NYC Tree Survey Using Random Forest\n",
    "\n",
    "Dataset can be found [here](https://data.cityofnewyork.us/Environment/2015-Street-Tree-Census-Tree-Data/uvpi-gqnh) on NYC Open Data (data dictionary included)\n",
    "\n",
    "Published on [Brunchline](http://www.brunchline.co) by [@DQOfficial](http://github.com/DQOfficial)"
   ]
  },
  {
   "cell_type": "code",
   "execution_count": 38,
   "metadata": {
    "collapsed": false
   },
   "outputs": [
    {
     "name": "stdout",
     "output_type": "stream",
     "text": [
      "Populating the interactive namespace from numpy and matplotlib\n",
      "2.7.11 (default, Dec  5 2015, 14:44:47) \n",
      "[GCC 4.2.1 Compatible Apple LLVM 7.0.0 (clang-700.1.76)]\n"
     ]
    },
    {
     "name": "stderr",
     "output_type": "stream",
     "text": [
      "WARNING: pylab import has clobbered these variables: ['clf']\n",
      "`%matplotlib` prevents importing * from pylab and numpy\n"
     ]
    }
   ],
   "source": [
    "import pandas as pd\n",
    "import numpy as np\n",
    "import matplotlib.pyplot as plt\n",
    "import seaborn as sns\n",
    "%pylab inline\n",
    "import sys\n",
    "print sys.version\n",
    "from sklearn.ensemble import RandomForestClassifier\n",
    "from sklearn.linear_model import LogisticRegression\n",
    "from sklearn import preprocessing\n",
    "from sklearn.metrics import roc_curve, auc"
   ]
  },
  {
   "cell_type": "code",
   "execution_count": 39,
   "metadata": {
    "collapsed": false
   },
   "outputs": [
    {
     "name": "stdout",
     "output_type": "stream",
     "text": [
      "GDP.csv                          euro.csv\r\n",
      "Lower_Manhattan_Retailers.csv    \u001b[1m\u001b[34mflight_hist_pickle\u001b[m\u001b[m/\r\n",
      "\u001b[1m\u001b[34mMLLec4_data\u001b[m\u001b[m/                     \u001b[1m\u001b[34mflight_hist_raw\u001b[m\u001b[m/\r\n",
      "SI_Sales.dta                     \u001b[1m\u001b[34mnyc_pluto_15v1\u001b[m\u001b[m/\r\n",
      "SI_Sales_Old.dta                 nyc_zipcodes.csv\r\n",
      "agencies.csv                     pluto_manhattan_usi.csv\r\n",
      "\u001b[1m\u001b[34mbuilding_footprints_shape_10-15\u001b[m\u001b[m/ russell.csv\r\n",
      "\u001b[1m\u001b[32mcitibike_feb15.csv\u001b[m\u001b[m*              tree_census_2015.csv\r\n",
      "citibike_feb15.csv.zip           unique_locations.csv\r\n",
      "communities.csv                  \u001b[1m\u001b[32mvehicles.csv\u001b[m\u001b[m*\r\n"
     ]
    }
   ],
   "source": [
    "ls"
   ]
  },
  {
   "cell_type": "code",
   "execution_count": 40,
   "metadata": {
    "collapsed": false
   },
   "outputs": [
    {
     "ename": "SyntaxError",
     "evalue": "invalid syntax (<ipython-input-40-c0d055dd72ea>, line 2)",
     "output_type": "error",
     "traceback": [
      "\u001b[0;36m  File \u001b[0;32m\"<ipython-input-40-c0d055dd72ea>\"\u001b[0;36m, line \u001b[0;32m2\u001b[0m\n\u001b[0;31m    cd dan/desktop/python/datasets\u001b[0m\n\u001b[0m         ^\u001b[0m\n\u001b[0;31mSyntaxError\u001b[0m\u001b[0;31m:\u001b[0m invalid syntax\n"
     ]
    }
   ],
   "source": [
    "# navigate to the local directory\n",
    "cd dan/desktop/python/datasets"
   ]
  },
  {
   "cell_type": "code",
   "execution_count": 41,
   "metadata": {
    "collapsed": false
   },
   "outputs": [],
   "source": [
    "# read in the data from NYC Open Data\n",
    "\n",
    "# this one uses the local csv file since i was having issues with the socrata API\n",
    "df = pd.read_csv('tree_census_2015.csv')\n",
    "\n",
    "# this one pulls from the API directly; uncomment to use if you'd like\n",
    "#df = pd.read_json('https://data.cityofnewyork.us/resource/nwxe-4ae8.json')"
   ]
  },
  {
   "cell_type": "code",
   "execution_count": 42,
   "metadata": {
    "collapsed": false
   },
   "outputs": [
    {
     "name": "stdout",
     "output_type": "stream",
     "text": [
      "Index([u'FID', u'tree_id', u'block_id', u'created_at', u'tree_dbh',\n",
      "       u'stump_diam', u'curb_loc', u'status', u'health', u'spc_latin',\n",
      "       u'spc_common', u'steward', u'guards', u'sidewalk', u'user_type',\n",
      "       u'root_stone', u'root_grate', u'root_other', u'trunk_wire',\n",
      "       u'trnk_light', u'trnk_other', u'brch_light', u'brch_shoe',\n",
      "       u'brch_other', u'address', u'zipcode', u'zip_city', u'cb_num',\n",
      "       u'borocode', u'boroname', u'cncldist', u'st_assem', u'st_senate',\n",
      "       u'nta', u'nta_name', u'boro_ct', u'state', u'latitude', u'longitude',\n",
      "       u'x_sp', u'y_sp'],\n",
      "      dtype='object')\n",
      "\n",
      "we have 41 columns\n",
      "and we have 133 types of trees\n"
     ]
    }
   ],
   "source": [
    "print df.columns\n",
    "print ''\n",
    "print 'we have %d columns' % len(df.columns)\n",
    "print 'and we have %d types of trees' % len(df.spc_common.unique())"
   ]
  },
  {
   "cell_type": "code",
   "execution_count": 43,
   "metadata": {
    "collapsed": false
   },
   "outputs": [],
   "source": [
    "# create new dataframe with only the columns we'd like\n",
    "data = df[['block_id','zipcode','borocode','brch_light','cncldist',\n",
    "           'brch_other','brch_shoe', 'tree_dbh','stump_diam','spc_common']]"
   ]
  },
  {
   "cell_type": "code",
   "execution_count": 44,
   "metadata": {
    "collapsed": false,
    "scrolled": false
   },
   "outputs": [
    {
     "name": "stdout",
     "output_type": "stream",
     "text": [
      "the top three most common trees are:\n",
      "                       name  count\n",
      "0          London Planetree  51890\n",
      "1  Honeylocust var. inermis  49199\n",
      "2              Callery Pear  45092\n",
      "      name  count\n",
      "3  Pin Oak  34555\n"
     ]
    }
   ],
   "source": [
    "# which trees are the most common?\n",
    "trees_df = pd.DataFrame({'count':data.spc_common.value_counts()})\n",
    "trees_df.reset_index(inplace=True)\n",
    "trees_df.columns=['name','count']\n",
    "print 'the top three most common trees are:'\n",
    "print trees_df[:3]\n",
    "print trees_df[trees_df.name=='Pin Oak']"
   ]
  },
  {
   "cell_type": "code",
   "execution_count": 45,
   "metadata": {
    "collapsed": false
   },
   "outputs": [
    {
     "name": "stderr",
     "output_type": "stream",
     "text": [
      "/usr/local/lib/python2.7/site-packages/ipykernel/__main__.py:2: SettingWithCopyWarning: \n",
      "A value is trying to be set on a copy of a slice from a DataFrame.\n",
      "Try using .loc[row_indexer,col_indexer] = value instead\n",
      "\n",
      "See the caveats in the documentation: http://pandas.pydata.org/pandas-docs/stable/indexing.html#indexing-view-versus-copy\n",
      "  from ipykernel import kernelapp as app\n"
     ]
    }
   ],
   "source": [
    "# create a binary flag variable for pin oak trees, since we don't want to measure it across all different types\n",
    "data['pin_oak_flag'] = np.where(data['spc_common']=='Pin Oak',1,0)"
   ]
  },
  {
   "cell_type": "code",
   "execution_count": 46,
   "metadata": {
    "collapsed": false
   },
   "outputs": [
    {
     "name": "stderr",
     "output_type": "stream",
     "text": [
      "/usr/local/lib/python2.7/site-packages/ipykernel/__main__.py:5: SettingWithCopyWarning: \n",
      "A value is trying to be set on a copy of a slice from a DataFrame.\n",
      "Try using .loc[row_indexer,col_indexer] = value instead\n",
      "\n",
      "See the caveats in the documentation: http://pandas.pydata.org/pandas-docs/stable/indexing.html#indexing-view-versus-copy\n"
     ]
    }
   ],
   "source": [
    "# then convert categorical data to numeric since random forest doesn't like categorical data\n",
    "def convert(data):\n",
    "    num = preprocessing.LabelEncoder()\n",
    "    for i in data.columns:\n",
    "        data[i] = num.fit_transform(data[i])\n",
    "        \n",
    "    return data\n",
    "    \n",
    "data = convert(data)"
   ]
  },
  {
   "cell_type": "code",
   "execution_count": 47,
   "metadata": {
    "collapsed": false
   },
   "outputs": [
    {
     "data": {
      "text/html": [
       "<div>\n",
       "<table border=\"1\" class=\"dataframe\">\n",
       "  <thead>\n",
       "    <tr style=\"text-align: right;\">\n",
       "      <th></th>\n",
       "      <th>block_id</th>\n",
       "      <th>zipcode</th>\n",
       "      <th>borocode</th>\n",
       "      <th>brch_light</th>\n",
       "      <th>cncldist</th>\n",
       "      <th>brch_other</th>\n",
       "      <th>brch_shoe</th>\n",
       "      <th>tree_dbh</th>\n",
       "      <th>stump_diam</th>\n",
       "      <th>spc_common</th>\n",
       "      <th>pin_oak_flag</th>\n",
       "    </tr>\n",
       "  </thead>\n",
       "  <tbody>\n",
       "    <tr>\n",
       "      <th>0</th>\n",
       "      <td>17045</td>\n",
       "      <td>116</td>\n",
       "      <td>2</td>\n",
       "      <td>0</td>\n",
       "      <td>32</td>\n",
       "      <td>0</td>\n",
       "      <td>0</td>\n",
       "      <td>4</td>\n",
       "      <td>0</td>\n",
       "      <td>118</td>\n",
       "      <td>0</td>\n",
       "    </tr>\n",
       "    <tr>\n",
       "      <th>1</th>\n",
       "      <td>17045</td>\n",
       "      <td>116</td>\n",
       "      <td>2</td>\n",
       "      <td>0</td>\n",
       "      <td>32</td>\n",
       "      <td>0</td>\n",
       "      <td>0</td>\n",
       "      <td>4</td>\n",
       "      <td>0</td>\n",
       "      <td>118</td>\n",
       "      <td>0</td>\n",
       "    </tr>\n",
       "    <tr>\n",
       "      <th>2</th>\n",
       "      <td>17045</td>\n",
       "      <td>116</td>\n",
       "      <td>2</td>\n",
       "      <td>0</td>\n",
       "      <td>32</td>\n",
       "      <td>0</td>\n",
       "      <td>0</td>\n",
       "      <td>4</td>\n",
       "      <td>0</td>\n",
       "      <td>118</td>\n",
       "      <td>0</td>\n",
       "    </tr>\n",
       "    <tr>\n",
       "      <th>3</th>\n",
       "      <td>16905</td>\n",
       "      <td>116</td>\n",
       "      <td>2</td>\n",
       "      <td>1</td>\n",
       "      <td>32</td>\n",
       "      <td>0</td>\n",
       "      <td>0</td>\n",
       "      <td>15</td>\n",
       "      <td>0</td>\n",
       "      <td>60</td>\n",
       "      <td>0</td>\n",
       "    </tr>\n",
       "    <tr>\n",
       "      <th>4</th>\n",
       "      <td>16905</td>\n",
       "      <td>116</td>\n",
       "      <td>2</td>\n",
       "      <td>1</td>\n",
       "      <td>32</td>\n",
       "      <td>0</td>\n",
       "      <td>0</td>\n",
       "      <td>18</td>\n",
       "      <td>0</td>\n",
       "      <td>60</td>\n",
       "      <td>0</td>\n",
       "    </tr>\n",
       "  </tbody>\n",
       "</table>\n",
       "</div>"
      ],
      "text/plain": [
       "   block_id  zipcode  borocode  brch_light  cncldist  brch_other  brch_shoe  \\\n",
       "0     17045      116         2           0        32           0          0   \n",
       "1     17045      116         2           0        32           0          0   \n",
       "2     17045      116         2           0        32           0          0   \n",
       "3     16905      116         2           1        32           0          0   \n",
       "4     16905      116         2           1        32           0          0   \n",
       "\n",
       "   tree_dbh  stump_diam  spc_common  pin_oak_flag  \n",
       "0         4           0         118             0  \n",
       "1         4           0         118             0  \n",
       "2         4           0         118             0  \n",
       "3        15           0          60             0  \n",
       "4        18           0          60             0  "
      ]
     },
     "execution_count": 47,
     "metadata": {},
     "output_type": "execute_result"
    }
   ],
   "source": [
    "data.head()"
   ]
  },
  {
   "cell_type": "code",
   "execution_count": 48,
   "metadata": {
    "collapsed": false
   },
   "outputs": [],
   "source": [
    "# since the random forest takes forever with 468,000 entries, let's use the sample function in pandas to slim it down\n",
    "# for this test, we use 10%, or about 47,000 rows\n",
    "sampled_df=data.sample(frac=.2,replace=True)\n",
    "\n",
    "data=sampled_df"
   ]
  },
  {
   "cell_type": "code",
   "execution_count": null,
   "metadata": {
    "collapsed": false
   },
   "outputs": [
    {
     "name": "stdout",
     "output_type": "stream",
     "text": [
      "Predicting the Pin Oak:\n",
      "The accuracy for the training set is: 0.997102200802\n",
      "The accuracy for the test set is: 0.921034838618\n"
     ]
    }
   ],
   "source": [
    "# split data set into train and test for both our target and predictor variables\n",
    "from sklearn.cross_validation import train_test_split\n",
    "\n",
    "X_train, X_test, y_train, y_test=train_test_split(data.ix[:,0:9],data['pin_oak_flag'],test_size=0.3, random_state=0)\n",
    "# train the random forest classifier\n",
    "clf = RandomForestClassifier(n_estimators=1000)\n",
    "clf = clf.fit(X_train,y_train)\n",
    "\n",
    "# calculate model accuracy for both train and test sets\n",
    "print 'Predicting the Pin Oak:'\n",
    "pred = clf.predict(X_train)\n",
    "print 'The accuracy for the training set is:',1.0*sum(y_train==pred)/len(pred)\n",
    "pred = clf.predict(X_test)\n",
    "print 'The accuracy for the test set is:', 1.0*sum(y_test==pred)/len(pred)"
   ]
  },
  {
   "cell_type": "code",
   "execution_count": null,
   "metadata": {
    "collapsed": false
   },
   "outputs": [],
   "source": [
    "# split data set into train and test for both our target and predictor variables\n",
    "from sklearn.cross_validation import train_test_split\n",
    "\n",
    "# rather than just looking at the most common tree, what if we try it with all 63 different types?\n",
    "X_train, X_test, y_train, y_test=train_test_split(data.ix[:,0:9],data['spc_common'],test_size=0.3, random_state=0)\n",
    "# train the random forest classifier\n",
    "clf = RandomForestClassifier(n_estimators=1000)\n",
    "clf = clf.fit(X_train,y_train)\n",
    "\n",
    "# calculate model accuracy for both train and test sets\n",
    "print 'Predicting all types:'\n",
    "pred = clf.predict(X_train)\n",
    "print 'The accuracy for the training set is:',1.0*sum(y_train==pred)/len(pred)\n",
    "pred = clf.predict(X_test)\n",
    "print 'The accuracy for the test set is:', 1.0*sum(y_test==pred)/len(pred)"
   ]
  },
  {
   "cell_type": "markdown",
   "metadata": {},
   "source": [
    "### As we can see, the accuracy for predicting one of the 63 types is a lot worse than just predicting the pin oak"
   ]
  },
  {
   "cell_type": "code",
   "execution_count": null,
   "metadata": {
    "collapsed": true
   },
   "outputs": [],
   "source": []
  }
 ],
 "metadata": {
  "kernelspec": {
   "display_name": "Python 2",
   "language": "python",
   "name": "python2"
  },
  "language_info": {
   "codemirror_mode": {
    "name": "ipython",
    "version": 2
   },
   "file_extension": ".py",
   "mimetype": "text/x-python",
   "name": "python",
   "nbconvert_exporter": "python",
   "pygments_lexer": "ipython2",
   "version": "2.7.11"
  }
 },
 "nbformat": 4,
 "nbformat_minor": 0
}
