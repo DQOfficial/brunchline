{
 "cells": [
  {
   "cell_type": "markdown",
   "metadata": {},
   "source": [
    "# Forest for the Trees \n",
    "### Predicting Tree Types from the NYC Tree Survey Using Random Forest\n",
    "\n",
    "Dataset can be found [here](https://data.cityofnewyork.us/Environment/2015-Street-Tree-Census-Tree-Data/uvpi-gqnh) on NYC Open Data (data dictionary included)\n",
    "\n",
    "Published on [Brunchline](www.brunchline.co) by [@DQOfficial](github.com/DQOfficial)"
   ]
  },
  {
   "cell_type": "code",
   "execution_count": 68,
   "metadata": {
    "collapsed": false
   },
   "outputs": [
    {
     "name": "stdout",
     "output_type": "stream",
     "text": [
      "Populating the interactive namespace from numpy and matplotlib\n",
      "2.7.11 (default, Dec  5 2015, 14:44:47) \n",
      "[GCC 4.2.1 Compatible Apple LLVM 7.0.0 (clang-700.1.76)]\n"
     ]
    },
    {
     "name": "stderr",
     "output_type": "stream",
     "text": [
      "WARNING: pylab import has clobbered these variables: ['clf']\n",
      "`%matplotlib` prevents importing * from pylab and numpy\n"
     ]
    }
   ],
   "source": [
    "import pandas as pd\n",
    "import numpy as np\n",
    "import matplotlib.pyplot as plt\n",
    "import seaborn as sns\n",
    "%pylab inline\n",
    "import sys\n",
    "print sys.version\n",
    "from sklearn.ensemble import RandomForestClassifier\n",
    "from sklearn.linear_model import LogisticRegression\n",
    "from sklearn import preprocessing\n",
    "from sklearn.metrics import roc_curve, auc"
   ]
  },
  {
   "cell_type": "code",
   "execution_count": 69,
   "metadata": {
    "collapsed": true
   },
   "outputs": [],
   "source": [
    "# read in the data from NYC Open Data\n",
    "df = pd.read_json('https://data.cityofnewyork.us/resource/nwxe-4ae8.json')"
   ]
  },
  {
   "cell_type": "code",
   "execution_count": 70,
   "metadata": {
    "collapsed": false
   },
   "outputs": [
    {
     "name": "stdout",
     "output_type": "stream",
     "text": [
      "Index([u'address', u'block_id', u'boro_ct', u'borocode', u'boroname',\n",
      "       u'brch_light', u'brch_other', u'brch_shoe', u'cb_num', u'cncldist',\n",
      "       u'created_at', u'curb_loc', u'fid', u'guards', u'health', u'latitude',\n",
      "       u'longitude', u'nta', u'nta_name', u'root_grate', u'root_other',\n",
      "       u'root_stone', u'sidewalk', u'spc_common', u'spc_latin', u'st_assem',\n",
      "       u'st_senate', u'state', u'status', u'steward', u'stump_diam',\n",
      "       u'tree_dbh', u'tree_id', u'trnk_light', u'trnk_other', u'trunk_wire',\n",
      "       u'user_type', u'x_sp', u'y_sp', u'zip_city', u'zipcode'],\n",
      "      dtype='object')\n",
      "\n",
      "we have 41 columns\n",
      "and we have 63 types of trees\n"
     ]
    }
   ],
   "source": [
    "print df.columns\n",
    "print ''\n",
    "print 'we have %d columns' % len(df.columns)\n",
    "print 'and we have %d types of trees' % len(df.spc_common.unique())"
   ]
  },
  {
   "cell_type": "code",
   "execution_count": 71,
   "metadata": {
    "collapsed": false
   },
   "outputs": [],
   "source": [
    "# create new dataframe with only the columns we'd like\n",
    "data = df[['block_id','zipcode','borocode','brch_light','cncldist',\n",
    "           'brch_other','brch_shoe', 'tree_dbh','stump_diam','spc_common']]"
   ]
  },
  {
   "cell_type": "code",
   "execution_count": 96,
   "metadata": {
    "collapsed": false,
    "scrolled": true
   },
   "outputs": [
    {
     "data": {
      "text/html": [
       "<div>\n",
       "<table border=\"1\" class=\"dataframe\">\n",
       "  <thead>\n",
       "    <tr style=\"text-align: right;\">\n",
       "      <th></th>\n",
       "      <th>name</th>\n",
       "      <th>count</th>\n",
       "    </tr>\n",
       "  </thead>\n",
       "  <tbody>\n",
       "    <tr>\n",
       "      <th>0</th>\n",
       "      <td>41</td>\n",
       "      <td>162</td>\n",
       "    </tr>\n",
       "    <tr>\n",
       "      <th>1</th>\n",
       "      <td>35</td>\n",
       "      <td>110</td>\n",
       "    </tr>\n",
       "    <tr>\n",
       "      <th>2</th>\n",
       "      <td>10</td>\n",
       "      <td>102</td>\n",
       "    </tr>\n",
       "  </tbody>\n",
       "</table>\n",
       "</div>"
      ],
      "text/plain": [
       "   name  count\n",
       "0    41    162\n",
       "1    35    110\n",
       "2    10    102"
      ]
     },
     "execution_count": 96,
     "metadata": {},
     "output_type": "execute_result"
    }
   ],
   "source": [
    "# which trees are the most common?\n",
    "trees_df = pd.DataFrame({'count':data.spc_common.value_counts()})\n",
    "trees_df.reset_index(inplace=True)\n",
    "trees_df.columns=['name','count']\n",
    "trees_df[:3]"
   ]
  },
  {
   "cell_type": "code",
   "execution_count": 95,
   "metadata": {
    "collapsed": false
   },
   "outputs": [
    {
     "data": {
      "text/plain": [
       "<matplotlib.text.Text at 0x11b0f1950>"
      ]
     },
     "execution_count": 95,
     "metadata": {},
     "output_type": "execute_result"
    },
    {
     "data": {
      "image/png": "[encoded data removed]",
      "text/plain": [
       "<matplotlib.figure.Figure at 0x11afbbe50>"
      ]
     },
     "metadata": {},
     "output_type": "display_data"
    }
   ],
   "source": [
    "# what does the distributio of tree types look like?\n",
    "trees_df['count'].hist(bins=len(df.spc_common.unique()))\n",
    "plt.title('Histogram of Tree Counts', fontsize =16)"
   ]
  },
  {
   "cell_type": "code",
   "execution_count": 73,
   "metadata": {
    "collapsed": false
   },
   "outputs": [
    {
     "name": "stderr",
     "output_type": "stream",
     "text": [
      "/usr/local/lib/python2.7/site-packages/ipykernel/__main__.py:1: SettingWithCopyWarning: \n",
      "A value is trying to be set on a copy of a slice from a DataFrame.\n",
      "Try using .loc[row_indexer,col_indexer] = value instead\n",
      "\n",
      "See the caveats in the documentation: http://pandas.pydata.org/pandas-docs/stable/indexing.html#indexing-view-versus-copy\n",
      "  if __name__ == '__main__':\n"
     ]
    }
   ],
   "source": [
    "# create a binary flag variable for pin oak trees, since we don't want to measure it across all different types\n",
    "data['pin_oak_flag'] = np.where(data['spc_common']=='Pin Oak',1,0)"
   ]
  },
  {
   "cell_type": "code",
   "execution_count": 74,
   "metadata": {
    "collapsed": false
   },
   "outputs": [
    {
     "name": "stderr",
     "output_type": "stream",
     "text": [
      "/usr/local/lib/python2.7/site-packages/ipykernel/__main__.py:5: SettingWithCopyWarning: \n",
      "A value is trying to be set on a copy of a slice from a DataFrame.\n",
      "Try using .loc[row_indexer,col_indexer] = value instead\n",
      "\n",
      "See the caveats in the documentation: http://pandas.pydata.org/pandas-docs/stable/indexing.html#indexing-view-versus-copy\n"
     ]
    }
   ],
   "source": [
    "# then convert categorical data to numeric since random forest doesn't like categorical data\n",
    "def convert(data):\n",
    "    num = preprocessing.LabelEncoder()\n",
    "    for i in data.columns:\n",
    "        data[i] = num.fit_transform(data[i])\n",
    "        \n",
    "    return data\n",
    "    \n",
    "data = convert(data)"
   ]
  },
  {
   "cell_type": "code",
   "execution_count": 75,
   "metadata": {
    "collapsed": false
   },
   "outputs": [],
   "source": [
    "# split data set into train and test for both our target and predictor variables\n",
    "from sklearn.cross_validation import train_test_split\n",
    "X_train, X_test, y_train, y_test=train_test_split(data.ix[:,0:9],data['pin_oak_flag'],test_size=0.3, random_state=0)"
   ]
  },
  {
   "cell_type": "code",
   "execution_count": 77,
   "metadata": {
    "collapsed": false
   },
   "outputs": [],
   "source": [
    "# train the random forest classifier\n",
    "clf = RandomForestClassifier(n_estimators=1000)\n",
    "clf = clf.fit(X_train,y_train)"
   ]
  },
  {
   "cell_type": "code",
   "execution_count": 97,
   "metadata": {
    "collapsed": false
   },
   "outputs": [
    {
     "name": "stdout",
     "output_type": "stream",
     "text": [
      "The accuracy for the training set is: 0.992857142857\n",
      "The accuracy for the test set is: 0.896666666667\n"
     ]
    }
   ],
   "source": [
    "# calculate model accuracy for both train and test sets\n",
    "pred = clf.predict(X_train)\n",
    "print 'The accuracy for the training set is:',1.0*sum(y_train==pred)/len(pred)\n",
    "pred = clf.predict(X_test)\n",
    "print 'The accuracy for the test set is:', 1.0*sum(y_test==pred)/len(pred)"
   ]
  },
  {
   "cell_type": "code",
   "execution_count": 85,
   "metadata": {
    "collapsed": false
   },
   "outputs": [
    {
     "data": {
      "text/plain": [
       "<matplotlib.text.Text at 0x119a1f350>"
      ]
     },
     "execution_count": 85,
     "metadata": {},
     "output_type": "execute_result"
    },
    {
     "data": {
      "image/png": "[encoded data removed]",
      "text/plain": [
       "<matplotlib.figure.Figure at 0x119829b90>"
      ]
     },
     "metadata": {},
     "output_type": "display_data"
    }
   ],
   "source": [
    "# let's plot the AUC score vs the tree depth\n",
    "from sklearn.tree import DecisionTreeClassifier, export_graphviz\n",
    "from sklearn.metrics import roc_auc_score\n",
    "\n",
    "\n",
    "points = []\n",
    "\n",
    "d = range(1,75,4)\n",
    "for i in d:\n",
    "    clf = DecisionTreeClassifier(max_depth=i)\n",
    "    clf = clf.fit(X_train, y_train)\n",
    "    points.append(roc_auc_score(y_test, clf.predict(X_test)))\n",
    "    \n",
    "figure, ax = plt.subplots(figsize=(8,8))\n",
    "ax.plot(d,points)\n",
    "ax.set_xlabel('Tree Depth', fontsize = 15)\n",
    "ax.set_ylabel('AUC Score', fontsize = 15)\n",
    "ax.set_title('AUC Score vs. Tree Depth',fontsize = 18)"
   ]
  }
 ],
 "metadata": {
  "kernelspec": {
   "display_name": "Python 2",
   "language": "python",
   "name": "python2"
  },
  "language_info": {
   "codemirror_mode": {
    "name": "ipython",
    "version": 2
   },
   "file_extension": ".py",
   "mimetype": "text/x-python",
   "name": "python",
   "nbconvert_exporter": "python",
   "pygments_lexer": "ipython2",
   "version": "2.7.11"
  }
 },
 "nbformat": 4,
 "nbformat_minor": 0
}
